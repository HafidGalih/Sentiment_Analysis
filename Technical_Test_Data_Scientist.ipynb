{
  "nbformat": 4,
  "nbformat_minor": 0,
  "metadata": {
    "colab": {
      "name": "Technical_Test_Data_Scientist.ipynb",
      "provenance": [],
      "toc_visible": true,
      "authorship_tag": "ABX9TyP8O2um4QJ7YA71nNWUVhd6",
      "include_colab_link": true
    },
    "kernelspec": {
      "name": "python3",
      "display_name": "Python 3"
    },
    "language_info": {
      "name": "python"
    }
  },
  "cells": [
    {
      "cell_type": "markdown",
      "metadata": {
        "id": "view-in-github",
        "colab_type": "text"
      },
      "source": [
        "<a href=\"https://colab.research.google.com/github/HafidGalih/Sentiment_Analysis/blob/comparison/Technical_Test_Data_Scientist.ipynb\" target=\"_parent\"><img src=\"https://colab.research.google.com/assets/colab-badge.svg\" alt=\"Open In Colab\"/></a>"
      ]
    },
    {
      "cell_type": "markdown",
      "source": [
        "# 1) Load Requirements"
      ],
      "metadata": {
        "id": "dZYESWxgqrs3"
      }
    },
    {
      "cell_type": "markdown",
      "source": [
        "Because the data is a collection of words in human language (English), there's a need to install library with Natural Language Processing capability. Here i used NLTK library for building my own pipeline to compare multiple algorithms."
      ],
      "metadata": {
        "id": "oq3VZonXqsyM"
      }
    },
    {
      "cell_type": "code",
      "execution_count": 1,
      "metadata": {
        "id": "LUWSNLzLql01",
        "colab": {
          "base_uri": "https://localhost:8080/"
        },
        "outputId": "6018c2ee-6682-4899-a639-9e4b510938a6"
      },
      "outputs": [
        {
          "output_type": "stream",
          "name": "stdout",
          "text": [
            "Requirement already satisfied: nltk in /usr/local/lib/python3.7/dist-packages (3.2.5)\n",
            "Requirement already satisfied: six in /usr/local/lib/python3.7/dist-packages (from nltk) (1.15.0)\n"
          ]
        }
      ],
      "source": [
        "# Install Libraries\n",
        "\n",
        "!pip install nltk"
      ]
    },
    {
      "cell_type": "code",
      "source": [
        "# Import Libraries\n",
        "import pandas as pd\n",
        "import pickle\n",
        "import re\n",
        "import nltk\n",
        "from nltk.corpus import stopwords\n",
        "from nltk.stem import PorterStemmer\n",
        "from sklearn.feature_extraction.text import TfidfVectorizer\n",
        "from sklearn.pipeline import Pipeline\n",
        "from sklearn.metrics import classification_report, confusion_matrix\n",
        "from sklearn.model_selection import train_test_split\n",
        "from sklearn.feature_selection import SelectKBest, chi2\n",
        "from sklearn.naive_bayes import MultinomialNB\n",
        "from sklearn.svm import LinearSVC\n",
        "from sklearn.linear_model import LogisticRegression\n",
        "from sklearn.ensemble import RandomForestClassifier\n",
        "\n",
        "#Download additional modules\n",
        "nltk.download('stopwords')"
      ],
      "metadata": {
        "id": "gQ0srKrGqwY0",
        "colab": {
          "base_uri": "https://localhost:8080/"
        },
        "outputId": "e202d2c1-1872-4757-94bc-ac0fb7545173"
      },
      "execution_count": 2,
      "outputs": [
        {
          "output_type": "stream",
          "name": "stdout",
          "text": [
            "[nltk_data] Downloading package stopwords to /root/nltk_data...\n",
            "[nltk_data]   Package stopwords is already up-to-date!\n"
          ]
        },
        {
          "output_type": "execute_result",
          "data": {
            "text/plain": [
              "True"
            ]
          },
          "metadata": {},
          "execution_count": 2
        }
      ]
    },
    {
      "cell_type": "markdown",
      "source": [
        "# 2) Data Preparation"
      ],
      "metadata": {
        "id": "ltfQCm_LrFE3"
      }
    },
    {
      "cell_type": "markdown",
      "source": [
        "## Data Exploration"
      ],
      "metadata": {
        "id": "DVV18uU51jry"
      }
    },
    {
      "cell_type": "code",
      "source": [
        "# Load dataset\n",
        "\n",
        "df_labeled = pd.read_csv('https://raw.githubusercontent.com/HafidGalih/Sentiment_Analysis/main/financial_news_data.csv',\n",
        "                         encoding=\"ISO-8859-1\")\n",
        "df_unlabeled = pd.read_csv('https://raw.githubusercontent.com/HafidGalih/Sentiment_Analysis/main/data_for_test_the_model.csv',\n",
        "                           encoding=\"ISO-8859-1\")\n"
      ],
      "metadata": {
        "id": "B-77NxbRrSG_"
      },
      "execution_count": 3,
      "outputs": []
    },
    {
      "cell_type": "code",
      "source": [
        "df_labeled.head(5)"
      ],
      "metadata": {
        "colab": {
          "base_uri": "https://localhost:8080/",
          "height": 206
        },
        "id": "7MZ6qwuz0poq",
        "outputId": "ae8f65fb-5e2d-4e54-ed42-bdba604169b8"
      },
      "execution_count": 4,
      "outputs": [
        {
          "output_type": "execute_result",
          "data": {
            "text/html": [
              "\n",
              "  <div id=\"df-629674e5-ec18-4738-8655-0feaa7591757\">\n",
              "    <div class=\"colab-df-container\">\n",
              "      <div>\n",
              "<style scoped>\n",
              "    .dataframe tbody tr th:only-of-type {\n",
              "        vertical-align: middle;\n",
              "    }\n",
              "\n",
              "    .dataframe tbody tr th {\n",
              "        vertical-align: top;\n",
              "    }\n",
              "\n",
              "    .dataframe thead th {\n",
              "        text-align: right;\n",
              "    }\n",
              "</style>\n",
              "<table border=\"1\" class=\"dataframe\">\n",
              "  <thead>\n",
              "    <tr style=\"text-align: right;\">\n",
              "      <th></th>\n",
              "      <th>sentiment</th>\n",
              "      <th>news_headline</th>\n",
              "    </tr>\n",
              "  </thead>\n",
              "  <tbody>\n",
              "    <tr>\n",
              "      <th>0</th>\n",
              "      <td>neutral</td>\n",
              "      <td>According to Gran , the company has no plans t...</td>\n",
              "    </tr>\n",
              "    <tr>\n",
              "      <th>1</th>\n",
              "      <td>neutral</td>\n",
              "      <td>Technopolis plans to develop in stages an area...</td>\n",
              "    </tr>\n",
              "    <tr>\n",
              "      <th>2</th>\n",
              "      <td>negative</td>\n",
              "      <td>The international electronic industry company ...</td>\n",
              "    </tr>\n",
              "    <tr>\n",
              "      <th>3</th>\n",
              "      <td>positive</td>\n",
              "      <td>With the new production plant the company woul...</td>\n",
              "    </tr>\n",
              "    <tr>\n",
              "      <th>4</th>\n",
              "      <td>positive</td>\n",
              "      <td>According to the company 's updated strategy f...</td>\n",
              "    </tr>\n",
              "  </tbody>\n",
              "</table>\n",
              "</div>\n",
              "      <button class=\"colab-df-convert\" onclick=\"convertToInteractive('df-629674e5-ec18-4738-8655-0feaa7591757')\"\n",
              "              title=\"Convert this dataframe to an interactive table.\"\n",
              "              style=\"display:none;\">\n",
              "        \n",
              "  <svg xmlns=\"http://www.w3.org/2000/svg\" height=\"24px\"viewBox=\"0 0 24 24\"\n",
              "       width=\"24px\">\n",
              "    <path d=\"M0 0h24v24H0V0z\" fill=\"none\"/>\n",
              "    <path d=\"M18.56 5.44l.94 2.06.94-2.06 2.06-.94-2.06-.94-.94-2.06-.94 2.06-2.06.94zm-11 1L8.5 8.5l.94-2.06 2.06-.94-2.06-.94L8.5 2.5l-.94 2.06-2.06.94zm10 10l.94 2.06.94-2.06 2.06-.94-2.06-.94-.94-2.06-.94 2.06-2.06.94z\"/><path d=\"M17.41 7.96l-1.37-1.37c-.4-.4-.92-.59-1.43-.59-.52 0-1.04.2-1.43.59L10.3 9.45l-7.72 7.72c-.78.78-.78 2.05 0 2.83L4 21.41c.39.39.9.59 1.41.59.51 0 1.02-.2 1.41-.59l7.78-7.78 2.81-2.81c.8-.78.8-2.07 0-2.86zM5.41 20L4 18.59l7.72-7.72 1.47 1.35L5.41 20z\"/>\n",
              "  </svg>\n",
              "      </button>\n",
              "      \n",
              "  <style>\n",
              "    .colab-df-container {\n",
              "      display:flex;\n",
              "      flex-wrap:wrap;\n",
              "      gap: 12px;\n",
              "    }\n",
              "\n",
              "    .colab-df-convert {\n",
              "      background-color: #E8F0FE;\n",
              "      border: none;\n",
              "      border-radius: 50%;\n",
              "      cursor: pointer;\n",
              "      display: none;\n",
              "      fill: #1967D2;\n",
              "      height: 32px;\n",
              "      padding: 0 0 0 0;\n",
              "      width: 32px;\n",
              "    }\n",
              "\n",
              "    .colab-df-convert:hover {\n",
              "      background-color: #E2EBFA;\n",
              "      box-shadow: 0px 1px 2px rgba(60, 64, 67, 0.3), 0px 1px 3px 1px rgba(60, 64, 67, 0.15);\n",
              "      fill: #174EA6;\n",
              "    }\n",
              "\n",
              "    [theme=dark] .colab-df-convert {\n",
              "      background-color: #3B4455;\n",
              "      fill: #D2E3FC;\n",
              "    }\n",
              "\n",
              "    [theme=dark] .colab-df-convert:hover {\n",
              "      background-color: #434B5C;\n",
              "      box-shadow: 0px 1px 3px 1px rgba(0, 0, 0, 0.15);\n",
              "      filter: drop-shadow(0px 1px 2px rgba(0, 0, 0, 0.3));\n",
              "      fill: #FFFFFF;\n",
              "    }\n",
              "  </style>\n",
              "\n",
              "      <script>\n",
              "        const buttonEl =\n",
              "          document.querySelector('#df-629674e5-ec18-4738-8655-0feaa7591757 button.colab-df-convert');\n",
              "        buttonEl.style.display =\n",
              "          google.colab.kernel.accessAllowed ? 'block' : 'none';\n",
              "\n",
              "        async function convertToInteractive(key) {\n",
              "          const element = document.querySelector('#df-629674e5-ec18-4738-8655-0feaa7591757');\n",
              "          const dataTable =\n",
              "            await google.colab.kernel.invokeFunction('convertToInteractive',\n",
              "                                                     [key], {});\n",
              "          if (!dataTable) return;\n",
              "\n",
              "          const docLinkHtml = 'Like what you see? Visit the ' +\n",
              "            '<a target=\"_blank\" href=https://colab.research.google.com/notebooks/data_table.ipynb>data table notebook</a>'\n",
              "            + ' to learn more about interactive tables.';\n",
              "          element.innerHTML = '';\n",
              "          dataTable['output_type'] = 'display_data';\n",
              "          await google.colab.output.renderOutput(dataTable, element);\n",
              "          const docLink = document.createElement('div');\n",
              "          docLink.innerHTML = docLinkHtml;\n",
              "          element.appendChild(docLink);\n",
              "        }\n",
              "      </script>\n",
              "    </div>\n",
              "  </div>\n",
              "  "
            ],
            "text/plain": [
              "  sentiment                                      news_headline\n",
              "0   neutral  According to Gran , the company has no plans t...\n",
              "1   neutral  Technopolis plans to develop in stages an area...\n",
              "2  negative  The international electronic industry company ...\n",
              "3  positive  With the new production plant the company woul...\n",
              "4  positive  According to the company 's updated strategy f..."
            ]
          },
          "metadata": {},
          "execution_count": 4
        }
      ]
    },
    {
      "cell_type": "code",
      "source": [
        "df_labeled.groupby('sentiment').count()"
      ],
      "metadata": {
        "colab": {
          "base_uri": "https://localhost:8080/",
          "height": 175
        },
        "id": "ZgmqXul801rT",
        "outputId": "bfa8d7a0-c90f-4837-bc4c-94562b362044"
      },
      "execution_count": 5,
      "outputs": [
        {
          "output_type": "execute_result",
          "data": {
            "text/html": [
              "\n",
              "  <div id=\"df-917098e6-26d9-4aae-8632-7526cd248d81\">\n",
              "    <div class=\"colab-df-container\">\n",
              "      <div>\n",
              "<style scoped>\n",
              "    .dataframe tbody tr th:only-of-type {\n",
              "        vertical-align: middle;\n",
              "    }\n",
              "\n",
              "    .dataframe tbody tr th {\n",
              "        vertical-align: top;\n",
              "    }\n",
              "\n",
              "    .dataframe thead th {\n",
              "        text-align: right;\n",
              "    }\n",
              "</style>\n",
              "<table border=\"1\" class=\"dataframe\">\n",
              "  <thead>\n",
              "    <tr style=\"text-align: right;\">\n",
              "      <th></th>\n",
              "      <th>news_headline</th>\n",
              "    </tr>\n",
              "    <tr>\n",
              "      <th>sentiment</th>\n",
              "      <th></th>\n",
              "    </tr>\n",
              "  </thead>\n",
              "  <tbody>\n",
              "    <tr>\n",
              "      <th>negative</th>\n",
              "      <td>603</td>\n",
              "    </tr>\n",
              "    <tr>\n",
              "      <th>neutral</th>\n",
              "      <td>2878</td>\n",
              "    </tr>\n",
              "    <tr>\n",
              "      <th>positive</th>\n",
              "      <td>1362</td>\n",
              "    </tr>\n",
              "  </tbody>\n",
              "</table>\n",
              "</div>\n",
              "      <button class=\"colab-df-convert\" onclick=\"convertToInteractive('df-917098e6-26d9-4aae-8632-7526cd248d81')\"\n",
              "              title=\"Convert this dataframe to an interactive table.\"\n",
              "              style=\"display:none;\">\n",
              "        \n",
              "  <svg xmlns=\"http://www.w3.org/2000/svg\" height=\"24px\"viewBox=\"0 0 24 24\"\n",
              "       width=\"24px\">\n",
              "    <path d=\"M0 0h24v24H0V0z\" fill=\"none\"/>\n",
              "    <path d=\"M18.56 5.44l.94 2.06.94-2.06 2.06-.94-2.06-.94-.94-2.06-.94 2.06-2.06.94zm-11 1L8.5 8.5l.94-2.06 2.06-.94-2.06-.94L8.5 2.5l-.94 2.06-2.06.94zm10 10l.94 2.06.94-2.06 2.06-.94-2.06-.94-.94-2.06-.94 2.06-2.06.94z\"/><path d=\"M17.41 7.96l-1.37-1.37c-.4-.4-.92-.59-1.43-.59-.52 0-1.04.2-1.43.59L10.3 9.45l-7.72 7.72c-.78.78-.78 2.05 0 2.83L4 21.41c.39.39.9.59 1.41.59.51 0 1.02-.2 1.41-.59l7.78-7.78 2.81-2.81c.8-.78.8-2.07 0-2.86zM5.41 20L4 18.59l7.72-7.72 1.47 1.35L5.41 20z\"/>\n",
              "  </svg>\n",
              "      </button>\n",
              "      \n",
              "  <style>\n",
              "    .colab-df-container {\n",
              "      display:flex;\n",
              "      flex-wrap:wrap;\n",
              "      gap: 12px;\n",
              "    }\n",
              "\n",
              "    .colab-df-convert {\n",
              "      background-color: #E8F0FE;\n",
              "      border: none;\n",
              "      border-radius: 50%;\n",
              "      cursor: pointer;\n",
              "      display: none;\n",
              "      fill: #1967D2;\n",
              "      height: 32px;\n",
              "      padding: 0 0 0 0;\n",
              "      width: 32px;\n",
              "    }\n",
              "\n",
              "    .colab-df-convert:hover {\n",
              "      background-color: #E2EBFA;\n",
              "      box-shadow: 0px 1px 2px rgba(60, 64, 67, 0.3), 0px 1px 3px 1px rgba(60, 64, 67, 0.15);\n",
              "      fill: #174EA6;\n",
              "    }\n",
              "\n",
              "    [theme=dark] .colab-df-convert {\n",
              "      background-color: #3B4455;\n",
              "      fill: #D2E3FC;\n",
              "    }\n",
              "\n",
              "    [theme=dark] .colab-df-convert:hover {\n",
              "      background-color: #434B5C;\n",
              "      box-shadow: 0px 1px 3px 1px rgba(0, 0, 0, 0.15);\n",
              "      filter: drop-shadow(0px 1px 2px rgba(0, 0, 0, 0.3));\n",
              "      fill: #FFFFFF;\n",
              "    }\n",
              "  </style>\n",
              "\n",
              "      <script>\n",
              "        const buttonEl =\n",
              "          document.querySelector('#df-917098e6-26d9-4aae-8632-7526cd248d81 button.colab-df-convert');\n",
              "        buttonEl.style.display =\n",
              "          google.colab.kernel.accessAllowed ? 'block' : 'none';\n",
              "\n",
              "        async function convertToInteractive(key) {\n",
              "          const element = document.querySelector('#df-917098e6-26d9-4aae-8632-7526cd248d81');\n",
              "          const dataTable =\n",
              "            await google.colab.kernel.invokeFunction('convertToInteractive',\n",
              "                                                     [key], {});\n",
              "          if (!dataTable) return;\n",
              "\n",
              "          const docLinkHtml = 'Like what you see? Visit the ' +\n",
              "            '<a target=\"_blank\" href=https://colab.research.google.com/notebooks/data_table.ipynb>data table notebook</a>'\n",
              "            + ' to learn more about interactive tables.';\n",
              "          element.innerHTML = '';\n",
              "          dataTable['output_type'] = 'display_data';\n",
              "          await google.colab.output.renderOutput(dataTable, element);\n",
              "          const docLink = document.createElement('div');\n",
              "          docLink.innerHTML = docLinkHtml;\n",
              "          element.appendChild(docLink);\n",
              "        }\n",
              "      </script>\n",
              "    </div>\n",
              "  </div>\n",
              "  "
            ],
            "text/plain": [
              "           news_headline\n",
              "sentiment               \n",
              "negative             603\n",
              "neutral             2878\n",
              "positive            1362"
            ]
          },
          "metadata": {},
          "execution_count": 5
        }
      ]
    },
    {
      "cell_type": "markdown",
      "source": [
        "Dataset is unbalanced and have 3 class. Need to consider balancing data and also using algorithm which supports multinomial classification."
      ],
      "metadata": {
        "id": "q3ySYQx90-Ye"
      }
    },
    {
      "cell_type": "code",
      "source": [
        "df_unlabeled"
      ],
      "metadata": {
        "colab": {
          "base_uri": "https://localhost:8080/",
          "height": 143
        },
        "id": "t01d8AY4_54i",
        "outputId": "fc7c50b4-b773-46d9-c6fa-448dbe1a2ee3"
      },
      "execution_count": 6,
      "outputs": [
        {
          "output_type": "execute_result",
          "data": {
            "text/html": [
              "\n",
              "  <div id=\"df-d1de85b4-3b66-44db-b401-ff1e8c17acb8\">\n",
              "    <div class=\"colab-df-container\">\n",
              "      <div>\n",
              "<style scoped>\n",
              "    .dataframe tbody tr th:only-of-type {\n",
              "        vertical-align: middle;\n",
              "    }\n",
              "\n",
              "    .dataframe tbody tr th {\n",
              "        vertical-align: top;\n",
              "    }\n",
              "\n",
              "    .dataframe thead th {\n",
              "        text-align: right;\n",
              "    }\n",
              "</style>\n",
              "<table border=\"1\" class=\"dataframe\">\n",
              "  <thead>\n",
              "    <tr style=\"text-align: right;\">\n",
              "      <th></th>\n",
              "      <th>number</th>\n",
              "      <th>news_headline</th>\n",
              "    </tr>\n",
              "  </thead>\n",
              "  <tbody>\n",
              "    <tr>\n",
              "      <th>0</th>\n",
              "      <td>1</td>\n",
              "      <td>The 2015 target for net sales has been set at ...</td>\n",
              "    </tr>\n",
              "    <tr>\n",
              "      <th>1</th>\n",
              "      <td>2</td>\n",
              "      <td>It holds 38 percent of Outokumpu 's shares and...</td>\n",
              "    </tr>\n",
              "    <tr>\n",
              "      <th>2</th>\n",
              "      <td>3</td>\n",
              "      <td>As a result of these transactions , the aggreg...</td>\n",
              "    </tr>\n",
              "  </tbody>\n",
              "</table>\n",
              "</div>\n",
              "      <button class=\"colab-df-convert\" onclick=\"convertToInteractive('df-d1de85b4-3b66-44db-b401-ff1e8c17acb8')\"\n",
              "              title=\"Convert this dataframe to an interactive table.\"\n",
              "              style=\"display:none;\">\n",
              "        \n",
              "  <svg xmlns=\"http://www.w3.org/2000/svg\" height=\"24px\"viewBox=\"0 0 24 24\"\n",
              "       width=\"24px\">\n",
              "    <path d=\"M0 0h24v24H0V0z\" fill=\"none\"/>\n",
              "    <path d=\"M18.56 5.44l.94 2.06.94-2.06 2.06-.94-2.06-.94-.94-2.06-.94 2.06-2.06.94zm-11 1L8.5 8.5l.94-2.06 2.06-.94-2.06-.94L8.5 2.5l-.94 2.06-2.06.94zm10 10l.94 2.06.94-2.06 2.06-.94-2.06-.94-.94-2.06-.94 2.06-2.06.94z\"/><path d=\"M17.41 7.96l-1.37-1.37c-.4-.4-.92-.59-1.43-.59-.52 0-1.04.2-1.43.59L10.3 9.45l-7.72 7.72c-.78.78-.78 2.05 0 2.83L4 21.41c.39.39.9.59 1.41.59.51 0 1.02-.2 1.41-.59l7.78-7.78 2.81-2.81c.8-.78.8-2.07 0-2.86zM5.41 20L4 18.59l7.72-7.72 1.47 1.35L5.41 20z\"/>\n",
              "  </svg>\n",
              "      </button>\n",
              "      \n",
              "  <style>\n",
              "    .colab-df-container {\n",
              "      display:flex;\n",
              "      flex-wrap:wrap;\n",
              "      gap: 12px;\n",
              "    }\n",
              "\n",
              "    .colab-df-convert {\n",
              "      background-color: #E8F0FE;\n",
              "      border: none;\n",
              "      border-radius: 50%;\n",
              "      cursor: pointer;\n",
              "      display: none;\n",
              "      fill: #1967D2;\n",
              "      height: 32px;\n",
              "      padding: 0 0 0 0;\n",
              "      width: 32px;\n",
              "    }\n",
              "\n",
              "    .colab-df-convert:hover {\n",
              "      background-color: #E2EBFA;\n",
              "      box-shadow: 0px 1px 2px rgba(60, 64, 67, 0.3), 0px 1px 3px 1px rgba(60, 64, 67, 0.15);\n",
              "      fill: #174EA6;\n",
              "    }\n",
              "\n",
              "    [theme=dark] .colab-df-convert {\n",
              "      background-color: #3B4455;\n",
              "      fill: #D2E3FC;\n",
              "    }\n",
              "\n",
              "    [theme=dark] .colab-df-convert:hover {\n",
              "      background-color: #434B5C;\n",
              "      box-shadow: 0px 1px 3px 1px rgba(0, 0, 0, 0.15);\n",
              "      filter: drop-shadow(0px 1px 2px rgba(0, 0, 0, 0.3));\n",
              "      fill: #FFFFFF;\n",
              "    }\n",
              "  </style>\n",
              "\n",
              "      <script>\n",
              "        const buttonEl =\n",
              "          document.querySelector('#df-d1de85b4-3b66-44db-b401-ff1e8c17acb8 button.colab-df-convert');\n",
              "        buttonEl.style.display =\n",
              "          google.colab.kernel.accessAllowed ? 'block' : 'none';\n",
              "\n",
              "        async function convertToInteractive(key) {\n",
              "          const element = document.querySelector('#df-d1de85b4-3b66-44db-b401-ff1e8c17acb8');\n",
              "          const dataTable =\n",
              "            await google.colab.kernel.invokeFunction('convertToInteractive',\n",
              "                                                     [key], {});\n",
              "          if (!dataTable) return;\n",
              "\n",
              "          const docLinkHtml = 'Like what you see? Visit the ' +\n",
              "            '<a target=\"_blank\" href=https://colab.research.google.com/notebooks/data_table.ipynb>data table notebook</a>'\n",
              "            + ' to learn more about interactive tables.';\n",
              "          element.innerHTML = '';\n",
              "          dataTable['output_type'] = 'display_data';\n",
              "          await google.colab.output.renderOutput(dataTable, element);\n",
              "          const docLink = document.createElement('div');\n",
              "          docLink.innerHTML = docLinkHtml;\n",
              "          element.appendChild(docLink);\n",
              "        }\n",
              "      </script>\n",
              "    </div>\n",
              "  </div>\n",
              "  "
            ],
            "text/plain": [
              "   number                                      news_headline\n",
              "0       1  The 2015 target for net sales has been set at ...\n",
              "1       2  It holds 38 percent of Outokumpu 's shares and...\n",
              "2       3  As a result of these transactions , the aggreg..."
            ]
          },
          "metadata": {},
          "execution_count": 6
        }
      ]
    },
    {
      "cell_type": "markdown",
      "source": [
        "## Data Pre-Processing"
      ],
      "metadata": {
        "id": "TApRBDjX1h3S"
      }
    },
    {
      "cell_type": "markdown",
      "source": [
        "Data pre-processing may increase the performance of ML model, the techniques used here is as follows:\n",
        "1. Converting words to lower case.\n",
        "2. Removing stopwords from each news headline, then stemming to reduce the number of similar meaning words.\n",
        "3. Split data into training and testing dataset\n",
        "4. Transforming word into vector space model (VSM) to extract the features.\n",
        "5. Select best features to be used."
      ],
      "metadata": {
        "id": "NcyTaG9y3LPS"
      }
    },
    {
      "cell_type": "code",
      "source": [
        "# 1) Convert words to lower case\n",
        "\n",
        "def ChangeLower(msg):\n",
        "    # converting messages to lowercase\n",
        "    msg = msg.lower()\n",
        "    return msg\n",
        "\n",
        "df_labeled['news_headline']=df_labeled['news_headline'].apply(ChangeLower)\n",
        "df_labeled['news_headline'].head(5)"
      ],
      "metadata": {
        "colab": {
          "base_uri": "https://localhost:8080/"
        },
        "id": "yXcjksVFhYWb",
        "outputId": "09b19701-0d29-4289-fdfb-4e9d9e5a821c"
      },
      "execution_count": 7,
      "outputs": [
        {
          "output_type": "execute_result",
          "data": {
            "text/plain": [
              "0    according to gran , the company has no plans t...\n",
              "1    technopolis plans to develop in stages an area...\n",
              "2    the international electronic industry company ...\n",
              "3    with the new production plant the company woul...\n",
              "4    according to the company 's updated strategy f...\n",
              "Name: news_headline, dtype: object"
            ]
          },
          "metadata": {},
          "execution_count": 7
        }
      ]
    },
    {
      "cell_type": "code",
      "source": [
        "# 2) Removing irrelevant words and Stemming\n",
        "stopwords = set(stopwords.words('english'))\n",
        "stemmer = PorterStemmer()\n",
        "df_labeled['stemmed'] = df_labeled['news_headline'].apply(lambda x: \" \".join([stemmer.stem(i) for i in re.sub(\"[^a-zA-Z]\", \" \", x).split() if i not in stopwords]))\n",
        "df_labeled['stemmed'].head(5)"
      ],
      "metadata": {
        "colab": {
          "base_uri": "https://localhost:8080/"
        },
        "id": "NBD4072tiD0j",
        "outputId": "7d70f534-3c46-471e-f387-7a4700fedfe3"
      },
      "execution_count": 8,
      "outputs": [
        {
          "output_type": "execute_result",
          "data": {
            "text/plain": [
              "0    accord gran compani plan move product russia a...\n",
              "1    technopoli plan develop stage area less squar ...\n",
              "2    intern electron industri compani elcoteq laid ...\n",
              "3    new product plant compani would increas capac ...\n",
              "4    accord compani updat strategi year baswar targ...\n",
              "Name: stemmed, dtype: object"
            ]
          },
          "metadata": {},
          "execution_count": 8
        }
      ]
    },
    {
      "cell_type": "code",
      "source": [
        "# 3) Split data for training and validation\n",
        "\n",
        "X = df_labeled['stemmed']\n",
        "Y = df_labeled['sentiment']\n",
        "X_train, X_test, y_train, y_test = train_test_split(X, Y, test_size=0.2, \n",
        "                                                    random_state=1, stratify=Y)"
      ],
      "metadata": {
        "id": "jPiuAIyV-4oA"
      },
      "execution_count": 9,
      "outputs": []
    },
    {
      "cell_type": "markdown",
      "source": [
        "in splitting the dataset, need to consider using stratify to ensure similar ratio between each class labels. Useful for unbalanced dataset such as the case here. random_state is set at 1 to ensure the result is repeatable, while test_size value may be changed to check which gives better result."
      ],
      "metadata": {
        "id": "CpwZjgjrDChU"
      }
    },
    {
      "cell_type": "code",
      "source": [
        "X_train.head(5)"
      ],
      "metadata": {
        "colab": {
          "base_uri": "https://localhost:8080/"
        },
        "id": "O7v8E2NzCqo7",
        "outputId": "ef4a9205-0f92-4478-b212-8b783cc0407a"
      },
      "execution_count": 10,
      "outputs": [
        {
          "output_type": "execute_result",
          "data": {
            "text/plain": [
              "2832                    beef import fell slightli mn kilo\n",
              "1448    upm kymmen one world lead print paper produc p...\n",
              "746               govern profession approach assess offer\n",
              "24      net sale increas eur eur pretax profit rose eu...\n",
              "3739       rubin say expect capman announc addit transact\n",
              "Name: stemmed, dtype: object"
            ]
          },
          "metadata": {},
          "execution_count": 10
        }
      ]
    },
    {
      "cell_type": "code",
      "source": [
        "X_test.head(5)"
      ],
      "metadata": {
        "colab": {
          "base_uri": "https://localhost:8080/"
        },
        "id": "EPr8BRGQJ_SV",
        "outputId": "b6b326d2-0448-492a-93ea-8aabf8bc21db"
      },
      "execution_count": 11,
      "outputs": [
        {
          "output_type": "execute_result",
          "data": {
            "text/plain": [
              "4792          build home improv trade sale decreas eur mn\n",
              "2937    work netapp includ strateg reposit brand categ...\n",
              "2674    restructur measur affect product packag print ...\n",
              "1602    tekla implement renew softwar version introduc...\n",
              "4820    besid depositor prefer finland senior debt dep...\n",
              "Name: stemmed, dtype: object"
            ]
          },
          "metadata": {},
          "execution_count": 11
        }
      ]
    },
    {
      "cell_type": "code",
      "source": [
        "# 4) Initialize Vectorization\n",
        "\n",
        "vectorizer = TfidfVectorizer(stop_words=\"english\")"
      ],
      "metadata": {
        "id": "A_gJpHX-m-OH"
      },
      "execution_count": 12,
      "outputs": []
    },
    {
      "cell_type": "code",
      "source": [
        "# 5) Feature Selection\n",
        "\n",
        "features = SelectKBest(chi2, k=2000)"
      ],
      "metadata": {
        "id": "MoKASb7TA4JN"
      },
      "execution_count": 13,
      "outputs": []
    },
    {
      "cell_type": "code",
      "source": [
        "# Create pipeline for easier processing\n",
        "\n",
        "NB_pipeline = Pipeline([('vect', vectorizer),\n",
        "                     ('chi', features),\n",
        "                     ('nb_clf', MultinomialNB())])\n",
        "\n",
        "RF_pipeline = Pipeline([('vect', vectorizer),\n",
        "                     ('chi',  features),\n",
        "                     ('rb_clf', RandomForestClassifier())])\n",
        "\n",
        "SVM_pipeline = Pipeline([('vect', vectorizer),\n",
        "                     ('chi',  features),\n",
        "                     ('svm_clf', LinearSVC())])\n",
        "\n",
        "LogR_pipeline = Pipeline([('vect', vectorizer),\n",
        "                     ('chi',  features),\n",
        "                     ('logr_clf', LogisticRegression())])"
      ],
      "metadata": {
        "id": "BAHQUcHeoW13"
      },
      "execution_count": 14,
      "outputs": []
    },
    {
      "cell_type": "markdown",
      "source": [
        "In the pipeline there are 3 steps:\n",
        "1. Vectorization to convert text data into vector value based on TfidfVectorizer\n",
        "2. Feature selection using SelectKBest to pick only k amount of best feature based on chi2 test. The k value used here is picked randomly.\n",
        "3. Initialize classifer algorithm to be trained"
      ],
      "metadata": {
        "id": "YGwesHxQ7Pbe"
      }
    },
    {
      "cell_type": "markdown",
      "source": [
        "# 3) Classifier Modeling"
      ],
      "metadata": {
        "id": "vPI-qCeA3A9y"
      }
    },
    {
      "cell_type": "markdown",
      "source": [
        "## Training"
      ],
      "metadata": {
        "id": "33ryC-a3I2rI"
      }
    },
    {
      "cell_type": "markdown",
      "source": [
        "Because the dataset already have label, and the task is classification, we can determine the algorithms to be used.\n",
        "These are few of the suitable algorithms for Supervised text classification in the existing literature. https://www.ijikm.org/Volume13/IJIKMv13p117-135Thangaraj3803.pdf\n",
        "\n",
        "1. Naive Bayes (NB_model)\n",
        "2. Random Forest (RF_model)\n",
        "3. Support Vector Machine (SVM_model)\n",
        "4. Logistic Regression (LogR_model)"
      ],
      "metadata": {
        "id": "CyrZ81wN0R0g"
      }
    },
    {
      "cell_type": "code",
      "source": [
        "# training model\n",
        "NB_model = NB_pipeline.fit(X_train, y_train)\n",
        "RF_model = RF_pipeline.fit(X_train, y_train)\n",
        "SVM_model = SVM_pipeline.fit(X_train, y_train)\n",
        "LogR_model = LogR_pipeline.fit(X_train, y_train)"
      ],
      "metadata": {
        "id": "c01a1z0b3Ich"
      },
      "execution_count": 15,
      "outputs": []
    },
    {
      "cell_type": "code",
      "source": [
        "# Training Results NB\n",
        "print(classification_report(y_train, NB_model.predict(X_train)))\n",
        "print(confusion_matrix(y_train, NB_model.predict(X_train)))"
      ],
      "metadata": {
        "colab": {
          "base_uri": "https://localhost:8080/"
        },
        "id": "q2-kHmxA4Cvb",
        "outputId": "58cdc415-9e54-4fc7-b0fa-de0dffec7c52"
      },
      "execution_count": 16,
      "outputs": [
        {
          "output_type": "stream",
          "name": "stdout",
          "text": [
            "              precision    recall  f1-score   support\n",
            "\n",
            "    negative       0.98      0.20      0.33       482\n",
            "     neutral       0.73      0.98      0.84      2302\n",
            "    positive       0.75      0.48      0.59      1090\n",
            "\n",
            "    accuracy                           0.74      3874\n",
            "   macro avg       0.82      0.55      0.59      3874\n",
            "weighted avg       0.77      0.74      0.71      3874\n",
            "\n",
            "[[  95  257  130]\n",
            " [   1 2258   43]\n",
            " [   1  561  528]]\n"
          ]
        }
      ]
    },
    {
      "cell_type": "code",
      "source": [
        "# Training Results RF\n",
        "print(classification_report(y_train, RF_model.predict(X_train)))\n",
        "print(confusion_matrix(y_train, RF_model.predict(X_train)))"
      ],
      "metadata": {
        "colab": {
          "base_uri": "https://localhost:8080/"
        },
        "id": "nVn8xQBVxMXh",
        "outputId": "0ce266c1-c964-4a62-a520-92316214a661"
      },
      "execution_count": 17,
      "outputs": [
        {
          "output_type": "stream",
          "name": "stdout",
          "text": [
            "              precision    recall  f1-score   support\n",
            "\n",
            "    negative       0.99      1.00      0.99       482\n",
            "     neutral       1.00      1.00      1.00      2302\n",
            "    positive       1.00      1.00      1.00      1090\n",
            "\n",
            "    accuracy                           1.00      3874\n",
            "   macro avg       1.00      1.00      1.00      3874\n",
            "weighted avg       1.00      1.00      1.00      3874\n",
            "\n",
            "[[ 480    0    2]\n",
            " [   3 2299    0]\n",
            " [   2    3 1085]]\n"
          ]
        }
      ]
    },
    {
      "cell_type": "code",
      "source": [
        "# Training Results SVM\n",
        "print(classification_report(y_train, SVM_model.predict(X_train)))\n",
        "print(confusion_matrix(y_train, SVM_model.predict(X_train)))"
      ],
      "metadata": {
        "colab": {
          "base_uri": "https://localhost:8080/"
        },
        "id": "TrzgAVHMxMuk",
        "outputId": "d958a9b1-4f15-4d38-d8f9-52ca617fe23c"
      },
      "execution_count": 18,
      "outputs": [
        {
          "output_type": "stream",
          "name": "stdout",
          "text": [
            "              precision    recall  f1-score   support\n",
            "\n",
            "    negative       0.90      0.85      0.87       482\n",
            "     neutral       0.93      0.97      0.95      2302\n",
            "    positive       0.93      0.85      0.89      1090\n",
            "\n",
            "    accuracy                           0.92      3874\n",
            "   macro avg       0.92      0.89      0.90      3874\n",
            "weighted avg       0.92      0.92      0.92      3874\n",
            "\n",
            "[[ 409   43   30]\n",
            " [  18 2244   40]\n",
            " [  28  132  930]]\n"
          ]
        }
      ]
    },
    {
      "cell_type": "code",
      "source": [
        "# Training Results LogR\n",
        "print(classification_report(y_train, LogR_model.predict(X_train)))\n",
        "print(confusion_matrix(y_train, LogR_model.predict(X_train)))"
      ],
      "metadata": {
        "colab": {
          "base_uri": "https://localhost:8080/"
        },
        "id": "q5Os3nbOxM8a",
        "outputId": "0a46723f-e8ce-4e7c-c191-bf30fceb235f"
      },
      "execution_count": 19,
      "outputs": [
        {
          "output_type": "stream",
          "name": "stdout",
          "text": [
            "              precision    recall  f1-score   support\n",
            "\n",
            "    negative       0.85      0.53      0.65       482\n",
            "     neutral       0.80      0.97      0.88      2302\n",
            "    positive       0.89      0.64      0.74      1090\n",
            "\n",
            "    accuracy                           0.82      3874\n",
            "   macro avg       0.85      0.71      0.76      3874\n",
            "weighted avg       0.83      0.82      0.81      3874\n",
            "\n",
            "[[ 256  179   47]\n",
            " [  17 2244   41]\n",
            " [  27  368  695]]\n"
          ]
        }
      ]
    },
    {
      "cell_type": "markdown",
      "source": [
        "## Validation"
      ],
      "metadata": {
        "id": "0f3Gfqp2I89k"
      }
    },
    {
      "cell_type": "markdown",
      "source": [
        "Using labeled data which is not used in training as validation to evaluate model performance with out of sample data"
      ],
      "metadata": {
        "id": "O_5EYM88I_Md"
      }
    },
    {
      "cell_type": "code",
      "source": [
        "# Validation Results NB\n",
        "\n",
        "print(classification_report(y_test, NB_model.predict(X_test)))\n",
        "print(confusion_matrix(y_test, NB_model.predict(X_test)))"
      ],
      "metadata": {
        "colab": {
          "base_uri": "https://localhost:8080/"
        },
        "id": "S19vqwvAJjis",
        "outputId": "5562ca89-0cab-4bdf-aa6d-cee8a59a3197"
      },
      "execution_count": 20,
      "outputs": [
        {
          "output_type": "stream",
          "name": "stdout",
          "text": [
            "              precision    recall  f1-score   support\n",
            "\n",
            "    negative       0.88      0.12      0.20       121\n",
            "     neutral       0.69      0.96      0.80       576\n",
            "    positive       0.60      0.33      0.42       272\n",
            "\n",
            "    accuracy                           0.68       969\n",
            "   macro avg       0.72      0.47      0.48       969\n",
            "weighted avg       0.69      0.68      0.62       969\n",
            "\n",
            "[[ 14  69  38]\n",
            " [  2 553  21]\n",
            " [  0 183  89]]\n"
          ]
        }
      ]
    },
    {
      "cell_type": "code",
      "source": [
        "# Validation Results RF\n",
        "\n",
        "print(classification_report(y_test, RF_model.predict(X_test)))\n",
        "print(confusion_matrix(y_test, RF_model.predict(X_test)))"
      ],
      "metadata": {
        "colab": {
          "base_uri": "https://localhost:8080/"
        },
        "id": "yieMk_g6xfWN",
        "outputId": "3bd41030-6a75-4efc-86ec-666da06bf18e"
      },
      "execution_count": 21,
      "outputs": [
        {
          "output_type": "stream",
          "name": "stdout",
          "text": [
            "              precision    recall  f1-score   support\n",
            "\n",
            "    negative       0.74      0.37      0.49       121\n",
            "     neutral       0.74      0.93      0.82       576\n",
            "    positive       0.68      0.47      0.56       272\n",
            "\n",
            "    accuracy                           0.73       969\n",
            "   macro avg       0.72      0.59      0.62       969\n",
            "weighted avg       0.72      0.73      0.71       969\n",
            "\n",
            "[[ 45  52  24]\n",
            " [  5 534  37]\n",
            " [ 11 133 128]]\n"
          ]
        }
      ]
    },
    {
      "cell_type": "code",
      "source": [
        "# Validation Results SVM\n",
        "\n",
        "print(classification_report(y_test, SVM_model.predict(X_test)))\n",
        "print(confusion_matrix(y_test, SVM_model.predict(X_test)))"
      ],
      "metadata": {
        "colab": {
          "base_uri": "https://localhost:8080/"
        },
        "id": "tcW-Lu46xfps",
        "outputId": "e8d3dcb2-1128-4877-ed08-768b0c366693"
      },
      "execution_count": 22,
      "outputs": [
        {
          "output_type": "stream",
          "name": "stdout",
          "text": [
            "              precision    recall  f1-score   support\n",
            "\n",
            "    negative       0.70      0.59      0.64       121\n",
            "     neutral       0.76      0.85      0.80       576\n",
            "    positive       0.64      0.51      0.57       272\n",
            "\n",
            "    accuracy                           0.72       969\n",
            "   macro avg       0.70      0.65      0.67       969\n",
            "weighted avg       0.72      0.72      0.72       969\n",
            "\n",
            "[[ 71  41   9]\n",
            " [ 15 492  69]\n",
            " [ 16 117 139]]\n"
          ]
        }
      ]
    },
    {
      "cell_type": "code",
      "source": [
        "# Validation Results LogR\n",
        "\n",
        "print(classification_report(y_test, LogR_model.predict(X_test)))\n",
        "print(confusion_matrix(y_test, LogR_model.predict(X_test)))"
      ],
      "metadata": {
        "colab": {
          "base_uri": "https://localhost:8080/"
        },
        "id": "bSn8Y4d6xgAA",
        "outputId": "2d342918-6298-4a37-991c-350d01ac5a28"
      },
      "execution_count": 23,
      "outputs": [
        {
          "output_type": "stream",
          "name": "stdout",
          "text": [
            "              precision    recall  f1-score   support\n",
            "\n",
            "    negative       0.73      0.42      0.53       121\n",
            "     neutral       0.73      0.92      0.81       576\n",
            "    positive       0.66      0.44      0.53       272\n",
            "\n",
            "    accuracy                           0.72       969\n",
            "   macro avg       0.71      0.59      0.63       969\n",
            "weighted avg       0.71      0.72      0.70       969\n",
            "\n",
            "[[ 51  53  17]\n",
            " [  5 528  43]\n",
            " [ 14 139 119]]\n"
          ]
        }
      ]
    },
    {
      "cell_type": "markdown",
      "source": [
        "By comparing all the training and testing results for each model, in this case RF shows the highest Accuracy almost 100% for Training dataset and 73% for validation dataset by using the model default parameter."
      ],
      "metadata": {
        "id": "LhKq4EJuy10m"
      }
    },
    {
      "cell_type": "code",
      "source": [
        "# Save the best model into a file for later use\n",
        "\n",
        "with open('RandomForest.pickle', 'wb') as f:\n",
        "    pickle.dump(RF_model, f)"
      ],
      "metadata": {
        "id": "YJqb_7Z-0SMi"
      },
      "execution_count": 24,
      "outputs": []
    },
    {
      "cell_type": "markdown",
      "source": [
        "# 4) Testing Model"
      ],
      "metadata": {
        "id": "ffJd6N4Y3agI"
      }
    },
    {
      "cell_type": "markdown",
      "source": [
        "In this part, the trained model will be tested with data which isn't labeled. Then the model will predicts which class label the text belongs."
      ],
      "metadata": {
        "id": "5v5hWyd2XBy4"
      }
    },
    {
      "cell_type": "code",
      "source": [
        "print(NB_model.predict(df_unlabeled['news_headline']))"
      ],
      "metadata": {
        "colab": {
          "base_uri": "https://localhost:8080/"
        },
        "id": "LuQOpi5S3j67",
        "outputId": "03ae554f-2aa0-4347-bfd4-eab1fba9dc1a"
      },
      "execution_count": 25,
      "outputs": [
        {
          "output_type": "stream",
          "name": "stdout",
          "text": [
            "['neutral' 'neutral' 'neutral']\n"
          ]
        }
      ]
    },
    {
      "cell_type": "code",
      "source": [
        "print(RF_model.predict(df_unlabeled['news_headline']))"
      ],
      "metadata": {
        "colab": {
          "base_uri": "https://localhost:8080/"
        },
        "id": "Zt9qdSFOx71j",
        "outputId": "922d4999-8fb4-4a3f-d246-421ce3544e2e"
      },
      "execution_count": 26,
      "outputs": [
        {
          "output_type": "stream",
          "name": "stdout",
          "text": [
            "['neutral' 'neutral' 'neutral']\n"
          ]
        }
      ]
    },
    {
      "cell_type": "code",
      "source": [
        "print(SVM_model.predict(df_unlabeled['news_headline']))"
      ],
      "metadata": {
        "colab": {
          "base_uri": "https://localhost:8080/"
        },
        "id": "h8TfeFL-x8Wx",
        "outputId": "bf9a3845-f3d2-4b23-debf-108e3edbc5d4"
      },
      "execution_count": 27,
      "outputs": [
        {
          "output_type": "stream",
          "name": "stdout",
          "text": [
            "['neutral' 'neutral' 'neutral']\n"
          ]
        }
      ]
    },
    {
      "cell_type": "code",
      "source": [
        "print(LogR_model.predict(df_unlabeled['news_headline']))"
      ],
      "metadata": {
        "colab": {
          "base_uri": "https://localhost:8080/"
        },
        "id": "TfHBOXKqx8sX",
        "outputId": "520edbe0-885c-497d-dea8-2507cc6ca5de"
      },
      "execution_count": 28,
      "outputs": [
        {
          "output_type": "stream",
          "name": "stdout",
          "text": [
            "['neutral' 'neutral' 'neutral']\n"
          ]
        }
      ]
    },
    {
      "cell_type": "markdown",
      "source": [
        "All models show similar prediction for the unlabeled news headline. Thus the sentiment label of the news_headline has a high probability of it being 'neutral' as predicted."
      ],
      "metadata": {
        "id": "N8AKZnP3zrrY"
      }
    }
  ]
}