{
  "nbformat": 4,
  "nbformat_minor": 0,
  "metadata": {
    "colab": {
      "name": "Technical_Test_Data_Scientist.ipynb",
      "provenance": [],
      "authorship_tag": "ABX9TyMb+leWSJ3/Gva/RY2l1BT/",
      "include_colab_link": true
    },
    "kernelspec": {
      "name": "python3",
      "display_name": "Python 3"
    },
    "language_info": {
      "name": "python"
    }
  },
  "cells": [
    {
      "cell_type": "markdown",
      "metadata": {
        "id": "view-in-github",
        "colab_type": "text"
      },
      "source": [
        "<a href=\"https://colab.research.google.com/github/HafidGalih/Sentiment_Analysis/blob/main/Technical_Test_Data_Scientist.ipynb\" target=\"_parent\"><img src=\"https://colab.research.google.com/assets/colab-badge.svg\" alt=\"Open In Colab\"/></a>"
      ]
    },
    {
      "cell_type": "markdown",
      "source": [
        "# 1) Load Requirements"
      ],
      "metadata": {
        "id": "dZYESWxgqrs3"
      }
    },
    {
      "cell_type": "markdown",
      "source": [
        "Because the data is a collection of words in human language (English), there's a need to install library with Natural Language Processing capability. Here i used TextBlob library for processing textual data. Its user-friendly interface provides access to basic NLP tasks such as sentiment analysis, word extraction, parsing, and many more. It's suitable for easy NLP tasks and also for a beginner."
      ],
      "metadata": {
        "id": "oq3VZonXqsyM"
      }
    },
    {
      "cell_type": "code",
      "execution_count": null,
      "metadata": {
        "id": "LUWSNLzLql01"
      },
      "outputs": [],
      "source": [
        "# Install Modules\n",
        "\n",
        "!pip install -U textblob\n",
        "!python -m textblob.download_corpora"
      ]
    },
    {
      "cell_type": "code",
      "source": [
        "# Import Libraries\n",
        "\n",
        "from textblob import TextBlob\n"
      ],
      "metadata": {
        "id": "gQ0srKrGqwY0"
      },
      "execution_count": null,
      "outputs": []
    },
    {
      "cell_type": "markdown",
      "source": [
        "# 2) Data Preparation"
      ],
      "metadata": {
        "id": "ltfQCm_LrFE3"
      }
    },
    {
      "cell_type": "code",
      "source": [
        "# Load dataset\n",
        "\n"
      ],
      "metadata": {
        "id": "B-77NxbRrSG_"
      },
      "execution_count": null,
      "outputs": []
    }
  ]
}